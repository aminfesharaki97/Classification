{
 "cells": [
  {
   "cell_type": "markdown",
   "metadata": {},
   "source": [
    "# Clustering "
   ]
  },
  {
   "cell_type": "code",
   "execution_count": 1,
   "metadata": {},
   "outputs": [],
   "source": [
    "# Import Libraries\n",
    "import pandas as pd\n",
    "import numpy as np\n",
    "from scipy import stats\n",
    "from sklearn.cluster import KMeans"
   ]
  },
  {
   "cell_type": "code",
   "execution_count": 2,
   "metadata": {},
   "outputs": [],
   "source": [
    "# Import Data\n",
    "wine_train = pd.read_csv(\n",
    "    \"/Users/datascience/Desktop/ADS 502 Data Sets/Website Data Sets/white_wine_training.csv\")\n",
    "wine_test = pd.read_csv(\n",
    "    \"/Users/datascience/Desktop/ADS 502 Data Sets/Website Data Sets/white_wine_test.csv\")"
   ]
  },
  {
   "cell_type": "markdown",
   "metadata": {},
   "source": [
    "## 11. Input and standardize both the training and test data sets."
   ]
  },
  {
   "cell_type": "code",
   "execution_count": 3,
   "metadata": {},
   "outputs": [],
   "source": [
    "X_train = wine_train[['alcohol', 'sugar']]\n",
    "X_ztrain = pd.DataFrame(stats.zscore(X_train), columns = ['alchohol', 'sugar'])\n",
    "\n",
    "X_test = wine_test[['alcohol', 'sugar']]\n",
    "X_ztest = pd.DataFrame(stats.zscore(X_test), columns = ['alchohol', 'sugar'])"
   ]
  },
  {
   "cell_type": "markdown",
   "metadata": {},
   "source": [
    "## 12. Run k‐means clustering on the training data set, using two clusters."
   ]
  },
  {
   "cell_type": "code",
   "execution_count": 4,
   "metadata": {},
   "outputs": [],
   "source": [
    "#K means cluster (2)\n",
    "km_train = KMeans(n_clusters = 2).fit(X_ztrain)\n",
    "# Investigate Clustering Results\n",
    "cluster = km_train.labels_\n",
    "#Separate records intwo two groups based on cluster membership\n",
    "Cluster1 = X_ztrain.loc[cluster==0]\n",
    "Cluster2 = X_ztrain.loc[cluster==1]\n"
   ]
  },
  {
   "cell_type": "markdown",
   "metadata": {},
   "source": [
    "## 13. Give the mean of each variable within each cluster and use the means to identify a “Dry wines” and a “Sweet wines” cluster."
   ]
  },
  {
   "cell_type": "code",
   "execution_count": 5,
   "metadata": {},
   "outputs": [
    {
     "data": {
      "text/html": [
       "<div>\n",
       "<style scoped>\n",
       "    .dataframe tbody tr th:only-of-type {\n",
       "        vertical-align: middle;\n",
       "    }\n",
       "\n",
       "    .dataframe tbody tr th {\n",
       "        vertical-align: top;\n",
       "    }\n",
       "\n",
       "    .dataframe thead th {\n",
       "        text-align: right;\n",
       "    }\n",
       "</style>\n",
       "<table border=\"1\" class=\"dataframe\">\n",
       "  <thead>\n",
       "    <tr style=\"text-align: right;\">\n",
       "      <th></th>\n",
       "      <th>alchohol</th>\n",
       "      <th>sugar</th>\n",
       "    </tr>\n",
       "  </thead>\n",
       "  <tbody>\n",
       "    <tr>\n",
       "      <th>count</th>\n",
       "      <td>1097.000000</td>\n",
       "      <td>1097.000000</td>\n",
       "    </tr>\n",
       "    <tr>\n",
       "      <th>mean</th>\n",
       "      <td>0.490305</td>\n",
       "      <td>-0.623752</td>\n",
       "    </tr>\n",
       "    <tr>\n",
       "      <th>std</th>\n",
       "      <td>0.905663</td>\n",
       "      <td>0.475694</td>\n",
       "    </tr>\n",
       "    <tr>\n",
       "      <th>min</th>\n",
       "      <td>-1.576448</td>\n",
       "      <td>-1.122791</td>\n",
       "    </tr>\n",
       "    <tr>\n",
       "      <th>25%</th>\n",
       "      <td>-0.156821</td>\n",
       "      <td>-0.951551</td>\n",
       "    </tr>\n",
       "    <tr>\n",
       "      <th>50%</th>\n",
       "      <td>0.427732</td>\n",
       "      <td>-0.844525</td>\n",
       "    </tr>\n",
       "    <tr>\n",
       "      <th>75%</th>\n",
       "      <td>1.179299</td>\n",
       "      <td>-0.352208</td>\n",
       "    </tr>\n",
       "    <tr>\n",
       "      <th>max</th>\n",
       "      <td>2.891203</td>\n",
       "      <td>1.477928</td>\n",
       "    </tr>\n",
       "  </tbody>\n",
       "</table>\n",
       "</div>"
      ],
      "text/plain": [
       "          alchohol        sugar\n",
       "count  1097.000000  1097.000000\n",
       "mean      0.490305    -0.623752\n",
       "std       0.905663     0.475694\n",
       "min      -1.576448    -1.122791\n",
       "25%      -0.156821    -0.951551\n",
       "50%       0.427732    -0.844525\n",
       "75%       1.179299    -0.352208\n",
       "max       2.891203     1.477928"
      ]
     },
     "execution_count": 5,
     "metadata": {},
     "output_type": "execute_result"
    }
   ],
   "source": [
    "#Summary statistics for Cluster 1\n",
    "Cluster1.describe()"
   ]
  },
  {
   "cell_type": "code",
   "execution_count": 6,
   "metadata": {},
   "outputs": [
    {
     "data": {
      "text/html": [
       "<div>\n",
       "<style scoped>\n",
       "    .dataframe tbody tr th:only-of-type {\n",
       "        vertical-align: middle;\n",
       "    }\n",
       "\n",
       "    .dataframe tbody tr th {\n",
       "        vertical-align: top;\n",
       "    }\n",
       "\n",
       "    .dataframe thead th {\n",
       "        text-align: right;\n",
       "    }\n",
       "</style>\n",
       "<table border=\"1\" class=\"dataframe\">\n",
       "  <thead>\n",
       "    <tr style=\"text-align: right;\">\n",
       "      <th></th>\n",
       "      <th>alchohol</th>\n",
       "      <th>sugar</th>\n",
       "    </tr>\n",
       "  </thead>\n",
       "  <tbody>\n",
       "    <tr>\n",
       "      <th>count</th>\n",
       "      <td>712.000000</td>\n",
       "      <td>712.000000</td>\n",
       "    </tr>\n",
       "    <tr>\n",
       "      <th>mean</th>\n",
       "      <td>-0.755428</td>\n",
       "      <td>0.961034</td>\n",
       "    </tr>\n",
       "    <tr>\n",
       "      <th>std</th>\n",
       "      <td>0.580989</td>\n",
       "      <td>0.818726</td>\n",
       "    </tr>\n",
       "    <tr>\n",
       "      <th>min</th>\n",
       "      <td>-1.826971</td>\n",
       "      <td>-0.908740</td>\n",
       "    </tr>\n",
       "    <tr>\n",
       "      <th>25%</th>\n",
       "      <td>-1.158911</td>\n",
       "      <td>0.354160</td>\n",
       "    </tr>\n",
       "    <tr>\n",
       "      <th>50%</th>\n",
       "      <td>-0.908388</td>\n",
       "      <td>0.867883</td>\n",
       "    </tr>\n",
       "    <tr>\n",
       "      <th>75%</th>\n",
       "      <td>-0.407343</td>\n",
       "      <td>1.488630</td>\n",
       "    </tr>\n",
       "    <tr>\n",
       "      <th>max</th>\n",
       "      <td>2.014374</td>\n",
       "      <td>5.512788</td>\n",
       "    </tr>\n",
       "  </tbody>\n",
       "</table>\n",
       "</div>"
      ],
      "text/plain": [
       "         alchohol       sugar\n",
       "count  712.000000  712.000000\n",
       "mean    -0.755428    0.961034\n",
       "std      0.580989    0.818726\n",
       "min     -1.826971   -0.908740\n",
       "25%     -1.158911    0.354160\n",
       "50%     -0.908388    0.867883\n",
       "75%     -0.407343    1.488630\n",
       "max      2.014374    5.512788"
      ]
     },
     "execution_count": 6,
     "metadata": {},
     "output_type": "execute_result"
    }
   ],
   "source": [
    "#Summary statistics for Cluster 2\n",
    "Cluster2.describe()"
   ]
  },
  {
   "cell_type": "markdown",
   "metadata": {},
   "source": [
    "Based on the summary statistics for the two clusters, cluster 2 is considered 'Sweet Wines' because it has a signficantly higher sugar mean than cluster 1. Therefore, Cluster 1 is considered 'Dry Wines' (significantly lower sugar mean)"
   ]
  },
  {
   "cell_type": "markdown",
   "metadata": {},
   "source": [
    "## 14. Validate the clustering results by running k‐means clustering on the test data set, using two clusters, and identifying a “Dry wines” and a “Sweet wines” cluster."
   ]
  },
  {
   "cell_type": "code",
   "execution_count": 7,
   "metadata": {},
   "outputs": [],
   "source": [
    "# CLuster algo\n",
    "km_test = KMeans(n_clusters = 2).fit(X_ztest)\n",
    "# Investigate Clustering Results\n",
    "cluster1 = km_test.labels_\n",
    "#Separate records intwo two groups based on cluster membership\n",
    "Cluster1T = X_ztest.loc[cluster1==0]\n",
    "Cluster2T = X_ztest.loc[cluster1==1]"
   ]
  },
  {
   "cell_type": "code",
   "execution_count": 8,
   "metadata": {},
   "outputs": [
    {
     "data": {
      "text/html": [
       "<div>\n",
       "<style scoped>\n",
       "    .dataframe tbody tr th:only-of-type {\n",
       "        vertical-align: middle;\n",
       "    }\n",
       "\n",
       "    .dataframe tbody tr th {\n",
       "        vertical-align: top;\n",
       "    }\n",
       "\n",
       "    .dataframe thead th {\n",
       "        text-align: right;\n",
       "    }\n",
       "</style>\n",
       "<table border=\"1\" class=\"dataframe\">\n",
       "  <thead>\n",
       "    <tr style=\"text-align: right;\">\n",
       "      <th></th>\n",
       "      <th>alchohol</th>\n",
       "      <th>sugar</th>\n",
       "    </tr>\n",
       "  </thead>\n",
       "  <tbody>\n",
       "    <tr>\n",
       "      <th>count</th>\n",
       "      <td>1123.000000</td>\n",
       "      <td>1123.000000</td>\n",
       "    </tr>\n",
       "    <tr>\n",
       "      <th>mean</th>\n",
       "      <td>0.455364</td>\n",
       "      <td>-0.605388</td>\n",
       "    </tr>\n",
       "    <tr>\n",
       "      <th>std</th>\n",
       "      <td>0.903549</td>\n",
       "      <td>0.459725</td>\n",
       "    </tr>\n",
       "    <tr>\n",
       "      <th>min</th>\n",
       "      <td>-1.675754</td>\n",
       "      <td>-1.089453</td>\n",
       "    </tr>\n",
       "    <tr>\n",
       "      <th>25%</th>\n",
       "      <td>-0.218729</td>\n",
       "      <td>-0.945241</td>\n",
       "    </tr>\n",
       "    <tr>\n",
       "      <th>50%</th>\n",
       "      <td>0.347892</td>\n",
       "      <td>-0.821632</td>\n",
       "    </tr>\n",
       "    <tr>\n",
       "      <th>75%</th>\n",
       "      <td>1.157351</td>\n",
       "      <td>-0.285988</td>\n",
       "    </tr>\n",
       "    <tr>\n",
       "      <th>max</th>\n",
       "      <td>2.776268</td>\n",
       "      <td>1.423949</td>\n",
       "    </tr>\n",
       "  </tbody>\n",
       "</table>\n",
       "</div>"
      ],
      "text/plain": [
       "          alchohol        sugar\n",
       "count  1123.000000  1123.000000\n",
       "mean      0.455364    -0.605388\n",
       "std       0.903549     0.459725\n",
       "min      -1.675754    -1.089453\n",
       "25%      -0.218729    -0.945241\n",
       "50%       0.347892    -0.821632\n",
       "75%       1.157351    -0.285988\n",
       "max       2.776268     1.423949"
      ]
     },
     "execution_count": 8,
     "metadata": {},
     "output_type": "execute_result"
    }
   ],
   "source": [
    "#Summary statistics for Cluster 1\n",
    "Cluster1T.describe()"
   ]
  },
  {
   "cell_type": "code",
   "execution_count": 9,
   "metadata": {
    "scrolled": true
   },
   "outputs": [
    {
     "data": {
      "text/html": [
       "<div>\n",
       "<style scoped>\n",
       "    .dataframe tbody tr th:only-of-type {\n",
       "        vertical-align: middle;\n",
       "    }\n",
       "\n",
       "    .dataframe tbody tr th {\n",
       "        vertical-align: top;\n",
       "    }\n",
       "\n",
       "    .dataframe thead th {\n",
       "        text-align: right;\n",
       "    }\n",
       "</style>\n",
       "<table border=\"1\" class=\"dataframe\">\n",
       "  <thead>\n",
       "    <tr style=\"text-align: right;\">\n",
       "      <th></th>\n",
       "      <th>alchohol</th>\n",
       "      <th>sugar</th>\n",
       "    </tr>\n",
       "  </thead>\n",
       "  <tbody>\n",
       "    <tr>\n",
       "      <th>count</th>\n",
       "      <td>637.000000</td>\n",
       "      <td>637.000000</td>\n",
       "    </tr>\n",
       "    <tr>\n",
       "      <th>mean</th>\n",
       "      <td>-0.802784</td>\n",
       "      <td>1.067269</td>\n",
       "    </tr>\n",
       "    <tr>\n",
       "      <th>std</th>\n",
       "      <td>0.561634</td>\n",
       "      <td>0.778760</td>\n",
       "    </tr>\n",
       "    <tr>\n",
       "      <th>min</th>\n",
       "      <td>-2.080483</td>\n",
       "      <td>-1.037949</td>\n",
       "    </tr>\n",
       "    <tr>\n",
       "      <th>25%</th>\n",
       "      <td>-1.190079</td>\n",
       "      <td>0.404167</td>\n",
       "    </tr>\n",
       "    <tr>\n",
       "      <th>50%</th>\n",
       "      <td>-0.947241</td>\n",
       "      <td>1.032518</td>\n",
       "    </tr>\n",
       "    <tr>\n",
       "      <th>75%</th>\n",
       "      <td>-0.542512</td>\n",
       "      <td>1.588762</td>\n",
       "    </tr>\n",
       "    <tr>\n",
       "      <th>max</th>\n",
       "      <td>1.562080</td>\n",
       "      <td>3.298700</td>\n",
       "    </tr>\n",
       "  </tbody>\n",
       "</table>\n",
       "</div>"
      ],
      "text/plain": [
       "         alchohol       sugar\n",
       "count  637.000000  637.000000\n",
       "mean    -0.802784    1.067269\n",
       "std      0.561634    0.778760\n",
       "min     -2.080483   -1.037949\n",
       "25%     -1.190079    0.404167\n",
       "50%     -0.947241    1.032518\n",
       "75%     -0.542512    1.588762\n",
       "max      1.562080    3.298700"
      ]
     },
     "execution_count": 9,
     "metadata": {},
     "output_type": "execute_result"
    }
   ],
   "source": [
    "#Summary statistics for Cluster 2\n",
    "Cluster2T.describe()"
   ]
  },
  {
   "cell_type": "markdown",
   "metadata": {},
   "source": [
    "Based on the summary statistics for the two clusters, cluster 2 is considered 'Sweet Wines' because it has a signficantly higher sugar mean than cluster 1. Therefore, Cluster 1 is considered 'Dry Wines' (significantly lower sugar mean)"
   ]
  },
  {
   "cell_type": "code",
   "execution_count": 10,
   "metadata": {},
   "outputs": [],
   "source": [
    "#Difference in mean to Validate\n",
    "\n",
    "#Means of sugar and alc for test dataset\n",
    "c1_mean_test_alc = round(Cluster1T['alchohol'].mean(),2)\n",
    "c1_mean_test_sugar = round(Cluster1T['sugar'].mean(),2)\n",
    "c2_mean_test_alc = round(Cluster2T['alchohol'].mean(),2)\n",
    "c2_mean_test_sugar = round(Cluster2T['sugar'].mean(),2)\n",
    "\n",
    "#Means of sugar and alc for training dataset\n",
    "c1_mean_train_alc = round(Cluster1['alchohol'].mean(),2)\n",
    "c1_mean_train_sugar = round(Cluster1['sugar'].mean(),2)\n",
    "c2_mean_train_alc = round(Cluster2['alchohol'].mean(),2)\n",
    "c2_mean_train_sugar = round(Cluster2['sugar'].mean(),2)\n",
    "\n",
    "#Difference in means\n",
    "Diff_sug_sweet = (c2_mean_train_sugar - c2_mean_test_sugar)\n",
    "Diff_sug_dry = c1_mean_train_sugar - c1_mean_test_sugar\n",
    "Diff_alc_sweet = c2_mean_train_alc - c2_mean_test_alc \n",
    "Diff_alc_dry = c1_mean_train_alc - c1_mean_test_alc \n",
    "\n",
    "#Table\n",
    "table = [[\"Variable\", \"Sweet Wines\", \"Dry Wines\"], \n",
    "         [\"Sugar\", Diff_sug_sweet, Diff_sug_dry], \n",
    "         [\"Alcohol\", Diff_alc_sweet, Diff_alc_dry]]"
   ]
  },
  {
   "cell_type": "code",
   "execution_count": 25,
   "metadata": {},
   "outputs": [
    {
     "data": {
      "text/plain": [
       "[['Variable', 'Sweet Wines', 'Dry Wines'],\n",
       " ['Sugar', -0.1100000000000001, -0.010000000000000009],\n",
       " ['Alcohol', 0.040000000000000036, 0.02999999999999997]]"
      ]
     },
     "execution_count": 25,
     "metadata": {},
     "output_type": "execute_result"
    }
   ],
   "source": [
    "table"
   ]
  },
  {
   "cell_type": "markdown",
   "metadata": {},
   "source": [
    "The datasets are validated. However, the difference of means are relatively small, to further validate the datasets, a two-sample t-test should be used."
   ]
  }
 ],
 "metadata": {
  "kernelspec": {
   "display_name": "Python 3",
   "language": "python",
   "name": "python3"
  },
  "language_info": {
   "codemirror_mode": {
    "name": "ipython",
    "version": 3
   },
   "file_extension": ".py",
   "mimetype": "text/x-python",
   "name": "python",
   "nbconvert_exporter": "python",
   "pygments_lexer": "ipython3",
   "version": "3.8.5"
  }
 },
 "nbformat": 4,
 "nbformat_minor": 4
}
